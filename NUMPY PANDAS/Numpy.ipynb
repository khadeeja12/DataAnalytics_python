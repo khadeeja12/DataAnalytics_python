{
 "cells": [
  {
   "cell_type": "code",
   "execution_count": 1,
   "id": "0274255c-4bf9-46f7-8150-bbbcd671b84f",
   "metadata": {},
   "outputs": [
    {
     "data": {
      "text/plain": [
       "numpy.ndarray"
      ]
     },
     "execution_count": 1,
     "metadata": {},
     "output_type": "execute_result"
    }
   ],
   "source": [
    "import numpy as np \n",
    "my_list=[1,2,3,4]\n",
    "my_array=np.array(my_list)\n",
    "type(my_array)"
   ]
  },
  {
   "cell_type": "code",
   "execution_count": 3,
   "id": "748489f5-3b29-4181-a9ac-0354b7e675fc",
   "metadata": {},
   "outputs": [
    {
     "name": "stdout",
     "output_type": "stream",
     "text": [
      "[[1 2 3 4]\n",
      " [5 6 7 8]]\n"
     ]
    }
   ],
   "source": [
    "second_list=[5,6,7,8]\n",
    "two_d_array=np.array([my_list,second_list])\n",
    "print(two_d_array)"
   ]
  },
  {
   "cell_type": "code",
   "execution_count": 4,
   "id": "5de7ccc9-9e2d-4fc0-8973-70f6cfcaf425",
   "metadata": {},
   "outputs": [
    {
     "data": {
      "text/plain": [
       "(2, 4)"
      ]
     },
     "execution_count": 4,
     "metadata": {},
     "output_type": "execute_result"
    }
   ],
   "source": [
    "two_d_array.shape"
   ]
  },
  {
   "cell_type": "code",
   "execution_count": 5,
   "id": "380a823d-d7b2-4216-8fd6-2c81aa745616",
   "metadata": {},
   "outputs": [
    {
     "data": {
      "text/plain": [
       "8"
      ]
     },
     "execution_count": 5,
     "metadata": {},
     "output_type": "execute_result"
    }
   ],
   "source": [
    "two_d_array.size"
   ]
  },
  {
   "cell_type": "code",
   "execution_count": 6,
   "id": "8103a1dd-d95c-4e10-a630-ced5c7c84a74",
   "metadata": {},
   "outputs": [
    {
     "data": {
      "text/plain": [
       "dtype('int64')"
      ]
     },
     "execution_count": 6,
     "metadata": {},
     "output_type": "execute_result"
    }
   ],
   "source": [
    "two_d_array.dtype"
   ]
  },
  {
   "cell_type": "code",
   "execution_count": 7,
   "id": "d24d7439-7a6c-4fa0-935e-00d0fcc0345e",
   "metadata": {},
   "outputs": [
    {
     "data": {
      "text/plain": [
       "array([[1., 0., 0., 0., 0.],\n",
       "       [0., 1., 0., 0., 0.],\n",
       "       [0., 0., 1., 0., 0.],\n",
       "       [0., 0., 0., 1., 0.],\n",
       "       [0., 0., 0., 0., 1.]])"
      ]
     },
     "execution_count": 7,
     "metadata": {},
     "output_type": "execute_result"
    }
   ],
   "source": [
    "np.identity(n=5)"
   ]
  },
  {
   "cell_type": "code",
   "execution_count": 8,
   "id": "8073db32-8d2f-4da7-a955-a85ae215a1ab",
   "metadata": {},
   "outputs": [
    {
     "data": {
      "text/plain": [
       "array([[1., 1., 1., 1.],\n",
       "       [1., 1., 1., 1.]])"
      ]
     },
     "execution_count": 8,
     "metadata": {},
     "output_type": "execute_result"
    }
   ],
   "source": [
    "np.ones(shape=[2,4])"
   ]
  },
  {
   "cell_type": "code",
   "execution_count": 9,
   "id": "7d7be2aa-ca55-45e1-ab27-0c40bcadc53d",
   "metadata": {},
   "outputs": [
    {
     "data": {
      "text/plain": [
       "array([[0., 0., 0., 0.],\n",
       "       [0., 0., 0., 0.]])"
      ]
     },
     "execution_count": 9,
     "metadata": {},
     "output_type": "execute_result"
    }
   ],
   "source": [
    "np.zeros(shape=[2,4])"
   ]
  },
  {
   "cell_type": "code",
   "execution_count": 11,
   "id": "3233ef70-ac8a-432d-8146-6e16a01c5d91",
   "metadata": {},
   "outputs": [
    {
     "data": {
      "text/plain": [
       "np.int64(3)"
      ]
     },
     "execution_count": 11,
     "metadata": {},
     "output_type": "execute_result"
    }
   ],
   "source": [
    "one_d_array=np.array([1,2,3,4])\n",
    "one_d_array[2]"
   ]
  },
  {
   "cell_type": "code",
   "execution_count": 12,
   "id": "0d98949a-2a84-4fb7-bf27-0aa734b9e96b",
   "metadata": {},
   "outputs": [
    {
     "data": {
      "text/plain": [
       "array([3, 4])"
      ]
     },
     "execution_count": 12,
     "metadata": {},
     "output_type": "execute_result"
    }
   ],
   "source": [
    "one_d_array[2:]"
   ]
  },
  {
   "cell_type": "code",
   "execution_count": 13,
   "id": "34c45667-6c2c-4768-9947-4e74490270fc",
   "metadata": {},
   "outputs": [
    {
     "data": {
      "text/plain": [
       "array([4, 3, 2, 1])"
      ]
     },
     "execution_count": 13,
     "metadata": {},
     "output_type": "execute_result"
    }
   ],
   "source": [
    "one_d_array[::-1]"
   ]
  },
  {
   "cell_type": "code",
   "execution_count": null,
   "id": "3c8add6f-23ec-4613-91e0-ff8a8ba676c1",
   "metadata": {},
   "outputs": [],
   "source": []
  }
 ],
 "metadata": {
  "kernelspec": {
   "display_name": "Python 3 (ipykernel)",
   "language": "python",
   "name": "python3"
  },
  "language_info": {
   "codemirror_mode": {
    "name": "ipython",
    "version": 3
   },
   "file_extension": ".py",
   "mimetype": "text/x-python",
   "name": "python",
   "nbconvert_exporter": "python",
   "pygments_lexer": "ipython3",
   "version": "3.12.4"
  }
 },
 "nbformat": 4,
 "nbformat_minor": 5
}
