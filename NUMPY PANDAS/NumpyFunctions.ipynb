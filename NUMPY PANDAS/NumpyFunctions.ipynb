{
 "cells": [
  {
   "cell_type": "code",
   "execution_count": 7,
   "id": "e1ccd4e6-ff6e-4d58-8d4e-1e9dd286e425",
   "metadata": {},
   "outputs": [
    {
     "data": {
      "text/plain": [
       "array([[1, 2],\n",
       "       [3, 4],\n",
       "       [5, 6],\n",
       "       [7, 8]])"
      ]
     },
     "execution_count": 7,
     "metadata": {},
     "output_type": "execute_result"
    }
   ],
   "source": [
    "#Reshaping the array 2,4 to 4,2\n",
    "import numpy as np\n",
    "two_d_array=np.array([[1,2,3,4],[5,6,7,8]])\n",
    "np.reshape(a=two_d_array,newshape=(4,2))"
   ]
  },
  {
   "cell_type": "code",
   "execution_count": 8,
   "id": "e26613bc-54c0-4d81-b774-ebdc38390858",
   "metadata": {},
   "outputs": [
    {
     "data": {
      "text/plain": [
       "array([1, 2, 3, 4, 5, 6, 7, 8])"
      ]
     },
     "execution_count": 8,
     "metadata": {},
     "output_type": "execute_result"
    }
   ],
   "source": [
    "#convert multidimensional to one dimensional using ravel() \n",
    "#using Rows\n",
    "np.ravel(a=two_d_array,order='C')\n"
   ]
  },
  {
   "cell_type": "code",
   "execution_count": 9,
   "id": "5a2261ee-20ff-43c7-b888-40ebcca814fc",
   "metadata": {},
   "outputs": [
    {
     "data": {
      "text/plain": [
       "array([1, 5, 2, 6, 3, 7, 4, 8])"
      ]
     },
     "execution_count": 9,
     "metadata": {},
     "output_type": "execute_result"
    }
   ],
   "source": [
    "#using Columns\n",
    "np.ravel(a=two_d_array,order='F')"
   ]
  },
  {
   "cell_type": "code",
   "execution_count": 10,
   "id": "ee29249b-18ef-446b-866e-82bbb25966b2",
   "metadata": {},
   "outputs": [
    {
     "data": {
      "text/plain": [
       "array([1, 2, 3, 4, 5, 6, 7, 8])"
      ]
     },
     "execution_count": 10,
     "metadata": {},
     "output_type": "execute_result"
    }
   ],
   "source": [
    "#Also using flatten method for the multidimensional to 1D array\n",
    "two_d_array.flatten()\n"
   ]
  },
  {
   "cell_type": "code",
   "execution_count": 11,
   "id": "d05bfd0b-486d-4d2a-ad3f-8b6024a54415",
   "metadata": {},
   "outputs": [
    {
     "data": {
      "text/plain": [
       "array([[1, 5],\n",
       "       [2, 6],\n",
       "       [3, 7],\n",
       "       [4, 8]])"
      ]
     },
     "execution_count": 11,
     "metadata": {},
     "output_type": "execute_result"
    }
   ],
   "source": [
    "#Transpose an array : rows to columns and columns to rows\n",
    "two_d_array.T"
   ]
  },
  {
   "cell_type": "code",
   "execution_count": 12,
   "id": "56081a03-851a-4683-af8b-530a87084828",
   "metadata": {},
   "outputs": [
    {
     "data": {
      "text/plain": [
       "array([[5, 6, 7, 8],\n",
       "       [1, 2, 3, 4]])"
      ]
     },
     "execution_count": 12,
     "metadata": {},
     "output_type": "execute_result"
    }
   ],
   "source": [
    "#Flip an array horizontally : updown\n",
    "np.flipud(two_d_array)"
   ]
  },
  {
   "cell_type": "code",
   "execution_count": 13,
   "id": "810bf248-049c-41d9-bde3-7bcc2183faa7",
   "metadata": {},
   "outputs": [
    {
     "data": {
      "text/plain": [
       "array([[4, 3, 2, 1],\n",
       "       [8, 7, 6, 5]])"
      ]
     },
     "execution_count": 13,
     "metadata": {},
     "output_type": "execute_result"
    }
   ],
   "source": [
    "np.fliplr(two_d_array) #leftright"
   ]
  },
  {
   "cell_type": "code",
   "execution_count": 14,
   "id": "86ada65b-26b0-400c-aee8-17f58b8d85ac",
   "metadata": {},
   "outputs": [
    {
     "data": {
      "text/plain": [
       "array([[4, 8],\n",
       "       [3, 7],\n",
       "       [2, 6],\n",
       "       [1, 5]])"
      ]
     },
     "execution_count": 14,
     "metadata": {},
     "output_type": "execute_result"
    }
   ],
   "source": [
    "#Rotate an array 90degree\n",
    "np.rot90(two_d_array,k=1)"
   ]
  },
  {
   "cell_type": "code",
   "execution_count": 15,
   "id": "49780a2b-450f-4a20-9b69-41077d7ae3cb",
   "metadata": {},
   "outputs": [
    {
     "data": {
      "text/plain": [
       "array([[3, 4, 1, 2],\n",
       "       [7, 8, 5, 6]])"
      ]
     },
     "execution_count": 15,
     "metadata": {},
     "output_type": "execute_result"
    }
   ],
   "source": [
    "#shift elements in an array along a given dimension\n",
    "np.roll(a=two_d_array,shift=2,axis=1)"
   ]
  },
  {
   "cell_type": "code",
   "execution_count": null,
   "id": "0a1bc39f-2fc3-4e0d-921e-8e90806c3955",
   "metadata": {},
   "outputs": [],
   "source": []
  }
 ],
 "metadata": {
  "kernelspec": {
   "display_name": "Python 3 (ipykernel)",
   "language": "python",
   "name": "python3"
  },
  "language_info": {
   "codemirror_mode": {
    "name": "ipython",
    "version": 3
   },
   "file_extension": ".py",
   "mimetype": "text/x-python",
   "name": "python",
   "nbconvert_exporter": "python",
   "pygments_lexer": "ipython3",
   "version": "3.12.4"
  }
 },
 "nbformat": 4,
 "nbformat_minor": 5
}
