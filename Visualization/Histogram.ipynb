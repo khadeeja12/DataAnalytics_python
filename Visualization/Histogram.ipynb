{
 "cells": [
  {
   "cell_type": "code",
   "execution_count": 3,
   "id": "ff770463-c962-4542-a4e5-d501cc46e2f0",
   "metadata": {},
   "outputs": [
    {
     "data": {
      "text/html": [
       "<div>\n",
       "<style scoped>\n",
       "    .dataframe tbody tr th:only-of-type {\n",
       "        vertical-align: middle;\n",
       "    }\n",
       "\n",
       "    .dataframe tbody tr th {\n",
       "        vertical-align: top;\n",
       "    }\n",
       "\n",
       "    .dataframe thead th {\n",
       "        text-align: right;\n",
       "    }\n",
       "</style>\n",
       "<table border=\"1\" class=\"dataframe\">\n",
       "  <thead>\n",
       "    <tr style=\"text-align: right;\">\n",
       "      <th></th>\n",
       "      <th>Date</th>\n",
       "      <th>Open</th>\n",
       "      <th>High</th>\n",
       "      <th>Low</th>\n",
       "      <th>Close</th>\n",
       "      <th>Adj Close</th>\n",
       "      <th>Volume</th>\n",
       "    </tr>\n",
       "  </thead>\n",
       "  <tbody>\n",
       "    <tr>\n",
       "      <th>122</th>\n",
       "      <td>2020-09-24</td>\n",
       "      <td>1411.030029</td>\n",
       "      <td>1443.708984</td>\n",
       "      <td>1409.849976</td>\n",
       "      <td>1428.290039</td>\n",
       "      <td>1428.290039</td>\n",
       "      <td>1450200</td>\n",
       "    </tr>\n",
       "    <tr>\n",
       "      <th>123</th>\n",
       "      <td>2020-09-25</td>\n",
       "      <td>1432.630005</td>\n",
       "      <td>1450.000000</td>\n",
       "      <td>1413.339966</td>\n",
       "      <td>1444.959961</td>\n",
       "      <td>1444.959961</td>\n",
       "      <td>1323000</td>\n",
       "    </tr>\n",
       "    <tr>\n",
       "      <th>124</th>\n",
       "      <td>2020-09-28</td>\n",
       "      <td>1474.209961</td>\n",
       "      <td>1476.800049</td>\n",
       "      <td>1449.301025</td>\n",
       "      <td>1464.520020</td>\n",
       "      <td>1464.520020</td>\n",
       "      <td>2007900</td>\n",
       "    </tr>\n",
       "    <tr>\n",
       "      <th>125</th>\n",
       "      <td>2020-09-29</td>\n",
       "      <td>1470.390015</td>\n",
       "      <td>1476.662964</td>\n",
       "      <td>1458.805054</td>\n",
       "      <td>1469.329956</td>\n",
       "      <td>1469.329956</td>\n",
       "      <td>978200</td>\n",
       "    </tr>\n",
       "    <tr>\n",
       "      <th>126</th>\n",
       "      <td>2020-09-30</td>\n",
       "      <td>1466.800049</td>\n",
       "      <td>1489.750000</td>\n",
       "      <td>1459.880005</td>\n",
       "      <td>1469.599976</td>\n",
       "      <td>1469.599976</td>\n",
       "      <td>1700600</td>\n",
       "    </tr>\n",
       "  </tbody>\n",
       "</table>\n",
       "</div>"
      ],
      "text/plain": [
       "           Date         Open         High          Low        Close  \\\n",
       "122  2020-09-24  1411.030029  1443.708984  1409.849976  1428.290039   \n",
       "123  2020-09-25  1432.630005  1450.000000  1413.339966  1444.959961   \n",
       "124  2020-09-28  1474.209961  1476.800049  1449.301025  1464.520020   \n",
       "125  2020-09-29  1470.390015  1476.662964  1458.805054  1469.329956   \n",
       "126  2020-09-30  1466.800049  1489.750000  1459.880005  1469.599976   \n",
       "\n",
       "       Adj Close   Volume  \n",
       "122  1428.290039  1450200  \n",
       "123  1444.959961  1323000  \n",
       "124  1464.520020  2007900  \n",
       "125  1469.329956   978200  \n",
       "126  1469.599976  1700600  "
      ]
     },
     "execution_count": 3,
     "metadata": {},
     "output_type": "execute_result"
    }
   ],
   "source": [
    "import pandas as pd\n",
    "import matplotlib.pyplot as plt\n",
    "\n",
    "data=pd.read_csv('alphabet_stock_data.csv')\n",
    "data.tail(5)"
   ]
  },
  {
   "cell_type": "code",
   "execution_count": 11,
   "id": "c7851841-9c5b-40fe-a995-396229019fa3",
   "metadata": {},
   "outputs": [
    {
     "data": {
      "image/png": "[encoded data removed]",
      "text/plain": [
       "<Figure size 640x480 with 1 Axes>"
      ]
     },
     "metadata": {},
     "output_type": "display_data"
    },
    {
     "data": {
      "text/plain": [
       "<Figure size 3000x900 with 0 Axes>"
      ]
     },
     "metadata": {},
     "output_type": "display_data"
    }
   ],
   "source": [
    "new_data=data[(data['Date']>='2020-04-06')&(data['Date']<='2020-09-24')]\n",
    "plt.hist(new_data['Open'],bins=20,label='Opening Price',alpha=0.5,color='blue')\n",
    "plt.hist(new_data['Close'],bins=20,label='Opening Price',alpha=0.5,color='green')\n",
    "plt.hist(new_data['High'],bins=20,label='Opening Price',alpha=0.5,color='red')                                            \n",
    "plt.hist(new_data['Low'],bins=20,label='Opening Price',alpha=0.5,color='orange')   \n",
    "plt.figure(figsize=(30,9))\n",
    "plt.show()                                        "
   ]
  },
  {
   "cell_type": "code",
   "execution_count": null,
   "id": "d6b34419-2d1e-4feb-b2ec-e35fe22fef94",
   "metadata": {},
   "outputs": [],
   "source": []
  }
 ],
 "metadata": {
  "kernelspec": {
   "display_name": "Python 3 (ipykernel)",
   "language": "python",
   "name": "python3"
  },
  "language_info": {
   "codemirror_mode": {
    "name": "ipython",
    "version": 3
   },
   "file_extension": ".py",
   "mimetype": "text/x-python",
   "name": "python",
   "nbconvert_exporter": "python",
   "pygments_lexer": "ipython3",
   "version": "3.12.4"
  }
 },
 "nbformat": 4,
 "nbformat_minor": 5
}
